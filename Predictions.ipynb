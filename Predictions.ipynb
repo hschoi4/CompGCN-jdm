{
 "cells": [
  {
   "cell_type": "code",
   "execution_count": 2,
   "id": "e7709f67",
   "metadata": {},
   "outputs": [
    {
     "name": "stderr",
     "output_type": "stream",
     "text": [
      "/usr/lib/python3/dist-packages/requests/__init__.py:87: RequestsDependencyWarning: urllib3 (2.0.1) or chardet (4.0.0) doesn't match a supported version!\n",
      "  warnings.warn(\"urllib3 ({}) or chardet ({}) doesn't match a supported \"\n"
     ]
    }
   ],
   "source": [
    "from run import Runner\n",
    "from mytorch.utils.goodies import FancyDict\n",
    "from matplotlib import pyplot as plt\n",
    "import numpy as np\n",
    "import torch"
   ]
  },
  {
   "cell_type": "code",
   "execution_count": 3,
   "id": "b6e47b04",
   "metadata": {},
   "outputs": [
    {
     "name": "stdout",
     "output_type": "stream",
     "text": [
      "2023-07-21 09:39:12,595 - [INFO] - {}\n",
      "{}\n"
     ]
    }
   ],
   "source": [
    "args = {'name' : 'testrun',\n",
    "'dataset' : 'RLF/lf',\n",
    "'model' : 'compgcn',\n",
    "'score_func' : 'conve',\n",
    "'opn' : 'corr',                 \n",
    "'use_wandb' : False, \n",
    "'batch_size' : 128,       \n",
    "'gamma' : 40.0,\t\t\t\n",
    "'gpu' : '-1',\t\t\t\n",
    "'max_epochs' : 1,  \t\n",
    "'l2' : 0.0,\t\t\t\n",
    "'lr' : 0.001,\t\t\t\n",
    "'lbl_smooth' : 0.1,\t\n",
    "'num_workers' : 10,                     \n",
    "'seed' : 41504,     \t\n",
    "'restore' : False,            \n",
    "'bias' : False   ,         \n",
    "'num_bases' : -1, \t\n",
    "'init_dim' : 100,\t\n",
    "'gcn_dim' : 200 ,\t\n",
    "'embed_dim' : None, \t\n",
    "'gcn_layer' : 1 \t,\n",
    "'dropout' : 0.1\t,\n",
    "'hid_drop' : 0.3\t,\n",
    "'hid_drop2' : 0.3\t,\n",
    "'feat_drop' : 0.3\t,\n",
    "'k_w' : 10 \t,\n",
    "'k_h' : 20 \t,\n",
    "'num_filt' : 200, \t\n",
    "'ker_sz' : 7 \t,\n",
    "'log_dir' : './log/',               \n",
    "'config_dir' : './config/',\n",
    "'trim': False,\n",
    "'trim_ratio': 0.00005,\n",
    "'use_fasttext': False\n",
    "}\n",
    "args = FancyDict(args)\n",
    "\n",
    "model = Runner(args)"
   ]
  },
  {
   "cell_type": "code",
   "execution_count": 4,
   "id": "1eb3462a",
   "metadata": {},
   "outputs": [
    {
     "data": {
      "text/plain": [
       "26558"
      ]
     },
     "execution_count": 4,
     "metadata": {},
     "output_type": "execute_result"
    }
   ],
   "source": [
    "model.p.num_ent"
   ]
  },
  {
   "cell_type": "code",
   "execution_count": 5,
   "id": "bad4fbca",
   "metadata": {},
   "outputs": [
    {
     "name": "stdout",
     "output_type": "stream",
     "text": [
      "               total       utilisé      libre     partagé tamp/cache   disponible\r\n",
      "Mem:            62Gi       4,0Gi        43Gi       1,1Gi        13Gi        56Gi\r\n",
      "Partition d'échange:      1,9Gi          0B       1,9Gi\r\n"
     ]
    }
   ],
   "source": [
    "! free -h"
   ]
  },
  {
   "cell_type": "code",
   "execution_count": 7,
   "id": "8dee9682",
   "metadata": {},
   "outputs": [],
   "source": [
    "# # Now load the saved model\n",
    "model.load_model('./checkpoints/compgcn-conve-rlffam')"
   ]
  },
  {
   "cell_type": "code",
   "execution_count": 8,
   "id": "d663fbd1",
   "metadata": {},
   "outputs": [
    {
     "data": {
      "text/plain": [
       "1436"
      ]
     },
     "execution_count": 8,
     "metadata": {},
     "output_type": "execute_result"
    }
   ],
   "source": [
    "model.ent2id['soleil i.a'] # Voila ca marche"
   ]
  },
  {
   "cell_type": "code",
   "execution_count": 9,
   "id": "fb471a9a",
   "metadata": {},
   "outputs": [
    {
     "data": {
      "text/plain": [
       "'poliment'"
      ]
     },
     "execution_count": 9,
     "metadata": {},
     "output_type": "execute_result"
    }
   ],
   "source": [
    "model.id2ent[11056]"
   ]
  },
  {
   "cell_type": "code",
   "execution_count": 10,
   "id": "ad5fa6ab",
   "metadata": {},
   "outputs": [],
   "source": [
    "sub = 'Maria Callas'\n",
    "rel = 'r_syn'"
   ]
  },
  {
   "cell_type": "code",
   "execution_count": 11,
   "id": "d2ec1fa6",
   "metadata": {},
   "outputs": [],
   "source": [
    "def visualize_predictions(model, sub: str, rel: str, n: int):\n",
    "    # Note model here is runner object\n",
    "    \n",
    "    # Let's get their IDs\n",
    "    id_sub, id_rel = model.ent2id[sub], model.rel2id[rel]\n",
    "    # Convert them to torch tensors of shape (2,1)\n",
    "    t_sub = torch.tensor([id_sub, id_sub])\n",
    "    t_rel = torch.tensor([id_rel, id_rel])\n",
    "    \n",
    "    # Get the model output\n",
    "    with torch.no_grad():\n",
    "        model.model.eval()\n",
    "        pred = model.model.forward(t_sub, t_rel)\n",
    "\n",
    "    output = pred[0]\n",
    "    print(len(output))\n",
    "    \n",
    "    # Argsort and get predictions\n",
    "    predicted_nodes = torch.argsort(output, descending=True)[:n]\n",
    "    predicted_scores = output[predicted_nodes]\n",
    "\n",
    "    # Get label of predicted nodes\n",
    "    predicted_node_names = [model.id2ent[nodeid.item()] for nodeid in predicted_nodes]\n",
    "    \n",
    "    # Plot them, and return values\n",
    "    plt.bar(predicted_node_names, predicted_scores)\n",
    "    _ = plt.xticks(rotation=90)\n",
    "    \n",
    "    return {\n",
    "        'ids': predicted_nodes,\n",
    "        'names': predicted_node_names,\n",
    "        'scores': predicted_scores\n",
    "    }"
   ]
  },
  {
   "cell_type": "code",
   "execution_count": 13,
   "id": "cbd31c00",
   "metadata": {},
   "outputs": [
    {
     "name": "stdout",
     "output_type": "stream",
     "text": [
      "26558\n"
     ]
    },
    {
     "data": {
      "text/plain": [
       "{'ids': tensor([  177,  8421, 14822,  7826, 14950,  3732, 17461, 17817,   178, 20067,\n",
       "         24833, 14818,  8317,   550,  9278,     4,  8846, 11740, 17843,  6375]),\n",
       " 'names': ['orage i',\n",
       "  'bruine',\n",
       "  'mauvais temps i',\n",
       "  'cordes iv',\n",
       "  'intempéries',\n",
       "  'crachin',\n",
       "  'drache',\n",
       "  'flotte ii',\n",
       "  'averse i',\n",
       "  'grain iv',\n",
       "  'giboulée',\n",
       "  'sauce ii',\n",
       "  'saucée',\n",
       "  'nuage i',\n",
       "  'rincée',\n",
       "  'pluie i',\n",
       "  'déluge i',\n",
       "  'pleuvoir i',\n",
       "  'pluvieux',\n",
       "  'cataracte ii'],\n",
       " 'scores': tensor([0.9680, 0.9368, 0.9253, 0.9130, 0.8797, 0.8756, 0.8703, 0.8626, 0.7243,\n",
       "         0.7116, 0.6928, 0.5131, 0.5051, 0.4626, 0.4575, 0.3584, 0.3324, 0.1263,\n",
       "         0.1008, 0.0834])}"
      ]
     },
     "execution_count": 13,
     "metadata": {},
     "output_type": "execute_result"
    },
    {
     "data": {
      "image/png": "[encoded data removed]",
      "text/plain": [
       "<Figure size 640x480 with 1 Axes>"
      ]
     },
     "metadata": {},
     "output_type": "display_data"
    }
   ],
   "source": [
    "visualize_predictions(model, 'pluie i', 'syn', n = 20)"
   ]
  },
  {
   "cell_type": "code",
   "execution_count": null,
   "id": "4892f1b3",
   "metadata": {},
   "outputs": [],
   "source": []
  }
 ],
 "metadata": {
  "kernelspec": {
   "display_name": "Python 3 (ipykernel)",
   "language": "python",
   "name": "python3"
  },
  "language_info": {
   "codemirror_mode": {
    "name": "ipython",
    "version": 3
   },
   "file_extension": ".py",
   "mimetype": "text/x-python",
   "name": "python",
   "nbconvert_exporter": "python",
   "pygments_lexer": "ipython3",
   "version": "3.10.6"
  }
 },
 "nbformat": 4,
 "nbformat_minor": 5
}
