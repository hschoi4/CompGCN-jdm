{
 "cells": [
  {
   "cell_type": "code",
   "execution_count": 1,
   "id": "e7709f67",
   "metadata": {},
   "outputs": [],
   "source": [
    "from run import Runner\n",
    "from mytorch.utils.goodies import FancyDict\n",
    "from matplotlib import pyplot as plt\n",
    "import numpy as np\n",
    "import pandas as pd\n",
    "import torch\n",
    "from typing import Union, Optional, Dict"
   ]
  },
  {
   "cell_type": "code",
   "execution_count": 2,
   "id": "b6e47b04",
   "metadata": {},
   "outputs": [
    {
     "name": "stdout",
     "output_type": "stream",
     "text": [
      "2023-07-21 16:39:29,312 - [INFO] - {}\n",
      "{}\n"
     ]
    },
    {
     "name": "stderr",
     "output_type": "stream",
     "text": [
      "/home/priyansh/Dev/perm/conda/envs/main/lib/python3.8/site-packages/torch/utils/data/dataloader.py:554: UserWarning: This DataLoader will create 10 worker processes in total. Our suggested max number of worker in current system is 4, which is smaller than what this DataLoader is going to create. Please be aware that excessive worker creation might get DataLoader running slow or even freeze, lower the worker number to avoid potential slowness/freeze if necessary.\n",
      "  warnings.warn(_create_warning_msg(\n"
     ]
    }
   ],
   "source": [
    "args = {'name' : 'testrun',\n",
    "'dataset' : 'RLF/lf',\n",
    "'model' : 'compgcn',\n",
    "'score_func' : 'conve',\n",
    "'opn' : 'corr',                 \n",
    "'use_wandb' : False, \n",
    "'batch_size' : 128,       \n",
    "'gamma' : 40.0,\t\t\t\n",
    "'gpu' : '-1',\t\t\t\n",
    "'max_epochs' : 1,  \t\n",
    "'l2' : 0.0,\t\t\t\n",
    "'lr' : 0.001,\t\t\t\n",
    "'lbl_smooth' : 0.1,\t\n",
    "'num_workers' : 10,                     \n",
    "'seed' : 41504,     \t\n",
    "'restore' : False,            \n",
    "'bias' : False   ,         \n",
    "'num_bases' : -1, \t\n",
    "'init_dim' : 100,\t\n",
    "'gcn_dim' : 200 ,\t\n",
    "'embed_dim' : None, \t\n",
    "'gcn_layer' : 1 \t,\n",
    "'dropout' : 0.1\t,\n",
    "'hid_drop' : 0.3\t,\n",
    "'hid_drop2' : 0.3\t,\n",
    "'feat_drop' : 0.3\t,\n",
    "'k_w' : 10 \t,\n",
    "'k_h' : 20 \t,\n",
    "'num_filt' : 200, \t\n",
    "'ker_sz' : 7 \t,\n",
    "'log_dir' : './log/',               \n",
    "'config_dir' : './config/',\n",
    "'trim': False,\n",
    "'trim_ratio': 0.00005,\n",
    "'use_fasttext': False\n",
    "}\n",
    "args = FancyDict(args)\n",
    "\n",
    "model = Runner(args)"
   ]
  },
  {
   "cell_type": "code",
   "execution_count": 3,
   "id": "8dee9682",
   "metadata": {},
   "outputs": [],
   "source": [
    "# # Now load the saved model\n",
    "model.load_model('./checkpoints/compgcn-conve-rlffam')"
   ]
  },
  {
   "cell_type": "code",
   "execution_count": 4,
   "id": "c2133913",
   "metadata": {},
   "outputs": [
    {
     "data": {
      "text/html": [
       "<div>\n",
       "<style scoped>\n",
       "    .dataframe tbody tr th:only-of-type {\n",
       "        vertical-align: middle;\n",
       "    }\n",
       "\n",
       "    .dataframe tbody tr th {\n",
       "        vertical-align: top;\n",
       "    }\n",
       "\n",
       "    .dataframe thead th {\n",
       "        text-align: right;\n",
       "    }\n",
       "</style>\n",
       "<table border=\"1\" class=\"dataframe\">\n",
       "  <thead>\n",
       "    <tr style=\"text-align: right;\">\n",
       "      <th></th>\n",
       "      <th>sub</th>\n",
       "      <th>rel</th>\n",
       "      <th>obj</th>\n",
       "      <th>split</th>\n",
       "    </tr>\n",
       "  </thead>\n",
       "  <tbody>\n",
       "    <tr>\n",
       "      <th>0</th>\n",
       "      <td>14710</td>\n",
       "      <td>0</td>\n",
       "      <td>15875</td>\n",
       "      <td>test</td>\n",
       "    </tr>\n",
       "    <tr>\n",
       "      <th>1</th>\n",
       "      <td>13469</td>\n",
       "      <td>0</td>\n",
       "      <td>18787</td>\n",
       "      <td>test</td>\n",
       "    </tr>\n",
       "    <tr>\n",
       "      <th>2</th>\n",
       "      <td>3007</td>\n",
       "      <td>0</td>\n",
       "      <td>17871</td>\n",
       "      <td>test</td>\n",
       "    </tr>\n",
       "    <tr>\n",
       "      <th>3</th>\n",
       "      <td>7786</td>\n",
       "      <td>50</td>\n",
       "      <td>1468</td>\n",
       "      <td>test</td>\n",
       "    </tr>\n",
       "    <tr>\n",
       "      <th>4</th>\n",
       "      <td>25295</td>\n",
       "      <td>0</td>\n",
       "      <td>665</td>\n",
       "      <td>test</td>\n",
       "    </tr>\n",
       "    <tr>\n",
       "      <th>...</th>\n",
       "      <td>...</td>\n",
       "      <td>...</td>\n",
       "      <td>...</td>\n",
       "      <td>...</td>\n",
       "    </tr>\n",
       "    <tr>\n",
       "      <th>5829</th>\n",
       "      <td>5653</td>\n",
       "      <td>8</td>\n",
       "      <td>19832</td>\n",
       "      <td>test</td>\n",
       "    </tr>\n",
       "    <tr>\n",
       "      <th>5830</th>\n",
       "      <td>6932</td>\n",
       "      <td>9</td>\n",
       "      <td>13116</td>\n",
       "      <td>test</td>\n",
       "    </tr>\n",
       "    <tr>\n",
       "      <th>5831</th>\n",
       "      <td>3425</td>\n",
       "      <td>9</td>\n",
       "      <td>7297</td>\n",
       "      <td>test</td>\n",
       "    </tr>\n",
       "    <tr>\n",
       "      <th>5832</th>\n",
       "      <td>5406</td>\n",
       "      <td>0</td>\n",
       "      <td>10337</td>\n",
       "      <td>test</td>\n",
       "    </tr>\n",
       "    <tr>\n",
       "      <th>5833</th>\n",
       "      <td>730</td>\n",
       "      <td>0</td>\n",
       "      <td>22676</td>\n",
       "      <td>test</td>\n",
       "    </tr>\n",
       "  </tbody>\n",
       "</table>\n",
       "<p>5834 rows × 4 columns</p>\n",
       "</div>"
      ],
      "text/plain": [
       "        sub  rel    obj split\n",
       "0     14710    0  15875  test\n",
       "1     13469    0  18787  test\n",
       "2      3007    0  17871  test\n",
       "3      7786   50   1468  test\n",
       "4     25295    0    665  test\n",
       "...     ...  ...    ...   ...\n",
       "5829   5653    8  19832  test\n",
       "5830   6932    9  13116  test\n",
       "5831   3425    9   7297  test\n",
       "5832   5406    0  10337  test\n",
       "5833    730    0  22676  test\n",
       "\n",
       "[5834 rows x 4 columns]"
      ]
     },
     "execution_count": 4,
     "metadata": {},
     "output_type": "execute_result"
    }
   ],
   "source": [
    "df_tr = pd.DataFrame(model.data['train'], columns=['sub', 'rel', 'obj'])\n",
    "df_tr['split'] = 'train'\n",
    "df_tr\n",
    "\n",
    "df_vl = pd.DataFrame(model.data['valid'], columns=['sub', 'rel', 'obj'])\n",
    "df_vl['split'] = 'valid'\n",
    "df_vl\n",
    "\n",
    "df_ts = pd.DataFrame(model.data['test'], columns=['sub', 'rel', 'obj'])\n",
    "df_ts['split'] = 'test'\n",
    "\n",
    "dfs = {'train': df_tr, 'valid': df_vl, 'test': df_ts}\n",
    "\n",
    "df_ts"
   ]
  },
  {
   "cell_type": "code",
   "execution_count": 5,
   "id": "1eb3462a",
   "metadata": {},
   "outputs": [
    {
     "data": {
      "text/plain": [
       "26558"
      ]
     },
     "execution_count": 5,
     "metadata": {},
     "output_type": "execute_result"
    }
   ],
   "source": [
    "model.p.num_ent"
   ]
  },
  {
   "cell_type": "code",
   "execution_count": 6,
   "id": "bad4fbca",
   "metadata": {},
   "outputs": [
    {
     "name": "stdout",
     "output_type": "stream",
     "text": [
      "               total        used        free      shared  buff/cache   available\r\n",
      "Mem:           7.7Gi       2.8Gi       1.9Gi        21Mi       3.0Gi       4.6Gi\r\n",
      "Swap:          2.0Gi          0B       2.0Gi\r\n"
     ]
    }
   ],
   "source": [
    "! free -h"
   ]
  },
  {
   "cell_type": "code",
   "execution_count": 7,
   "id": "d663fbd1",
   "metadata": {},
   "outputs": [
    {
     "data": {
      "text/plain": [
       "1436"
      ]
     },
     "execution_count": 7,
     "metadata": {},
     "output_type": "execute_result"
    }
   ],
   "source": [
    "model.ent2id['soleil i.a'] # Voila ca marche"
   ]
  },
  {
   "cell_type": "code",
   "execution_count": 8,
   "id": "fb471a9a",
   "metadata": {},
   "outputs": [
    {
     "data": {
      "text/plain": [
       "'poliment'"
      ]
     },
     "execution_count": 8,
     "metadata": {},
     "output_type": "execute_result"
    }
   ],
   "source": [
    "model.id2ent[11056]"
   ]
  },
  {
   "cell_type": "code",
   "execution_count": 9,
   "id": "ad5fa6ab",
   "metadata": {},
   "outputs": [],
   "source": [
    "sub = 'Maria Callas'\n",
    "rel = 'r_syn'"
   ]
  },
  {
   "cell_type": "code",
   "execution_count": 10,
   "id": "a7db9758",
   "metadata": {},
   "outputs": [],
   "source": [
    "def get_gold(\n",
    "    model: Runner, \n",
    "    dfs: Dict[str, pd.DataFrame], \n",
    "    sub: Union[str, int], \n",
    "    rel: Optional[Union[str, int]] = None,\n",
    "    return_str: bool = False):\n",
    "    \n",
    "    # Encode the sub and rel \n",
    "    i_sub = sub if type(sub) is int else model.ent2id[sub]\n",
    "    i_rel = None\n",
    "    \n",
    "    if rel is not None:\n",
    "        i_rel = rel if type(rel) is int else model.rel2id[rel]\n",
    "        \n",
    "    # Unpack dfs\n",
    "    df_tr, df_vl, df_ts = dfs['train'], dfs['valid'], dfs['test']    \n",
    "        \n",
    "    # Get train matches\n",
    "    temp = df_tr[df_tr['sub'] == i_sub]\n",
    "    if rel is not None:\n",
    "        temp = temp[temp['rel'] == i_rel]\n",
    "    tr_o = temp.obj.values.tolist()\n",
    "    tr_r = temp.rel.values.tolist()\n",
    "    \n",
    "    # Get valid matches\n",
    "    temp = df_vl[df_vl['sub'] == i_sub]\n",
    "    if rel is not None:\n",
    "        temp = temp[temp['rel'] == i_rel]\n",
    "    vl_o = temp.obj.values.tolist()\n",
    "    vl_r = temp.rel.values.tolist()\n",
    "    \n",
    "    # Get test matches\n",
    "    temp = df_ts[df_ts['sub'] == i_sub]\n",
    "    if rel is not None:\n",
    "        temp = temp[temp['rel'] == i_rel]\n",
    "    ts_o = temp.obj.values.tolist()\n",
    "    ts_r = temp.rel.values.tolist()\n",
    "    \n",
    "    if return_str:\n",
    "        # we encode everything and send back\n",
    "        tr_o = [model.id2ent[x] for x in tr_o]\n",
    "        vl_o = [model.id2ent[x] for x in vl_o]\n",
    "        ts_o = [model.id2ent[x] for x in ts_o]\n",
    "        tr_r = [model.id2rel[x] for x in tr_r]\n",
    "        vl_r = [model.id2rel[x] for x in vl_r]\n",
    "        ts_r = [model.id2rel[x] for x in ts_r]\n",
    "\n",
    "    return tr_o, tr_r, vl_o, vl_r, ts_o, ts_r"
   ]
  },
  {
   "cell_type": "code",
   "execution_count": 11,
   "id": "d2ec1fa6",
   "metadata": {},
   "outputs": [],
   "source": [
    "def visualize_predictions(model, sub: str, rel: str, n: int, dfs: dict = dfs):\n",
    "    # Note model here is runner object\n",
    "    \n",
    "    # Let's get their IDs\n",
    "    id_sub, id_rel = model.ent2id[sub], model.rel2id[rel]\n",
    "    # Convert them to torch tensors of shape (2,1)\n",
    "    t_sub = torch.tensor([id_sub, id_sub])\n",
    "    t_rel = torch.tensor([id_rel, id_rel])\n",
    "    \n",
    "    # Get the model output\n",
    "    with torch.no_grad():\n",
    "        model.model.eval()\n",
    "        pred = model.model.forward(t_sub, t_rel)\n",
    "\n",
    "    output = pred[0]\n",
    "    print(len(output))\n",
    "    \n",
    "    # Get gold predictions\n",
    "    train_objs, train_rels, valid_objs, valid_rels, test_objs, test_rels = \\\n",
    "        get_gold(model, dfs, id_sub, id_rel, return_str=False)\n",
    "    \n",
    "    # Argsort and get predictions\n",
    "    predicted_nodes = torch.argsort(output, descending=True)[:n]\n",
    "    predicted_scores = output[predicted_nodes]\n",
    "    \n",
    "    # Get label of predicted nodes\n",
    "    predicted_node_names = [model.id2ent[nodeid.item()] for nodeid in predicted_nodes]\n",
    "    \n",
    "    # See if some predictions are also present in gold\n",
    "    matches = []\n",
    "    for i, nodeid in enumerate(predicted_nodes):\n",
    "        found = False\n",
    "        if nodeid in train_objs:\n",
    "            predicted_node_names[i] = '[tr] ' + predicted_node_names[i]\n",
    "            found = True\n",
    "        if nodeid in valid_objs:\n",
    "            predicted_node_names[i] = '[vl] ' + predicted_node_names[i]\n",
    "            found = True\n",
    "        if nodeid in test_objs:\n",
    "            predicted_node_names[i] = '[ts] ' + predicted_node_names[i]\n",
    "            found = True\n",
    "        if found:\n",
    "            matches.append(i)\n",
    "    \n",
    "    # Plot them, and return values\n",
    "    fig, ax = plt.subplots()\n",
    "    plt.bar(predicted_node_names, predicted_scores)\n",
    "    _ = plt.xticks(rotation=90)\n",
    "    \n",
    "    for i in matches:\n",
    "        ax.get_xticklabels()[i].set_color(\"red\")\n",
    "    \n",
    "    return {\n",
    "        'ids': predicted_nodes,\n",
    "        'names': predicted_node_names,\n",
    "        'scores': predicted_scores\n",
    "    }"
   ]
  },
  {
   "cell_type": "markdown",
   "id": "4d2715d1",
   "metadata": {},
   "source": [
    "# Visulizations will be 'red' if the triple is found in the dataset\n",
    "\n",
    "- `[tr]` will mean it comes from train\n",
    "- `[vl]` will mean it comes from valid\n",
    "- `[ts]` will mean it comes from test"
   ]
  },
  {
   "cell_type": "code",
   "execution_count": 12,
   "id": "cbd31c00",
   "metadata": {},
   "outputs": [
    {
     "name": "stdout",
     "output_type": "stream",
     "text": [
      "26558\n"
     ]
    },
    {
     "data": {
      "text/plain": [
       "{'ids': tensor([25811,  4046,  1437,  1436,  3210, 13697,  4045, 22152,  5031, 21732,\n",
       "         13500, 23053,  8942, 17010,  1496, 18893,  3569,  3568, 16394, 13992]),\n",
       " 'names': ['[tr] astre du jour',\n",
       "  '[tr] soleil i.b',\n",
       "  'lune i.1a',\n",
       "  'soleil i.a',\n",
       "  'étoile',\n",
       "  'lune i.1b',\n",
       "  'solaire adj',\n",
       "  'rayon de soleil',\n",
       "  'ciel i.1',\n",
       "  'vénus iii',\n",
       "  'astre',\n",
       "  'rai',\n",
       "  'corps céleste',\n",
       "  'infrarouge',\n",
       "  'croissant i',\n",
       "  'objet i.2',\n",
       "  'mars 2',\n",
       "  'système solaire',\n",
       "  'dormir ii.2c',\n",
       "  'terre i'],\n",
       " 'scores': tensor([0.5912, 0.5678, 0.3368, 0.1644, 0.1074, 0.0568, 0.0547, 0.0260, 0.0141,\n",
       "         0.0121, 0.0116, 0.0079, 0.0079, 0.0075, 0.0065, 0.0054, 0.0041, 0.0038,\n",
       "         0.0036, 0.0027])}"
      ]
     },
     "execution_count": 12,
     "metadata": {},
     "output_type": "execute_result"
    },
    {
     "data": {
      "image/png": "[encoded data removed]",
      "text/plain": [
       "<Figure size 640x480 with 1 Axes>"
      ]
     },
     "metadata": {},
     "output_type": "display_data"
    }
   ],
   "source": [
    "visualize_predictions(model, 'soleil i.a', 'syn', n = 20)"
   ]
  },
  {
   "cell_type": "code",
   "execution_count": 13,
   "id": "d4f15be2",
   "metadata": {},
   "outputs": [
    {
     "data": {
      "text/plain": [
       "[3, 65, 3699, 7171]"
      ]
     },
     "execution_count": 13,
     "metadata": {},
     "output_type": "execute_result"
    }
   ],
   "source": [
    "# To just get gold outputs:\n",
    "train_objs, train_rels, valid_objs, valid_rels, test_objs, test_rels = get_gold(model, dfs, 2)\n",
    "train_objs[:4]"
   ]
  },
  {
   "cell_type": "code",
   "execution_count": 14,
   "id": "3eb60aee",
   "metadata": {},
   "outputs": [
    {
     "data": {
      "text/plain": [
       "[5, 1388, 992, 3190]"
      ]
     },
     "execution_count": 14,
     "metadata": {},
     "output_type": "execute_result"
    }
   ],
   "source": [
    "# Can do it with node labels as well\n",
    "train_objs, train_rels, valid_objs, valid_rels, test_objs, test_rels = get_gold(model, dfs, 'pluie i')\n",
    "train_objs[:4]"
   ]
  },
  {
   "cell_type": "code",
   "execution_count": 15,
   "id": "3cc3d256",
   "metadata": {},
   "outputs": [
    {
     "data": {
      "text/plain": [
       "[177, 8421, 17461, 17817]"
      ]
     },
     "execution_count": 15,
     "metadata": {},
     "output_type": "execute_result"
    }
   ],
   "source": [
    "# Can filter with relations as well\n",
    "train_objs, train_rels, valid_objs, valid_rels, test_objs, test_rels = get_gold(model, dfs, 'pluie i', 'syn')\n",
    "train_objs[:4]"
   ]
  },
  {
   "cell_type": "code",
   "execution_count": 16,
   "id": "e29b95e1",
   "metadata": {},
   "outputs": [
    {
     "data": {
      "text/plain": [
       "[5, 2252, 1416, 3108]"
      ]
     },
     "execution_count": 16,
     "metadata": {},
     "output_type": "execute_result"
    }
   ],
   "source": [
    "# Relations can be numbers as well\n",
    "train_objs, train_rels, valid_objs, valid_rels, test_objs, test_rels = get_gold(model, dfs, 'pluie i', 2)\n",
    "train_objs[:4]"
   ]
  },
  {
   "cell_type": "code",
   "execution_count": 17,
   "id": "49f6fa5f",
   "metadata": {},
   "outputs": [
    {
     "data": {
      "text/plain": [
       "(['soleil i.b', 'astre du jour'], ['syn', 'syn'], [], [], [], [])"
      ]
     },
     "execution_count": 17,
     "metadata": {},
     "output_type": "execute_result"
    }
   ],
   "source": [
    "# Can ask to give text outputs instead\n",
    "get_gold(model, dfs, 'soleil i.a', 0, return_str=True)\n"
   ]
  }
 ],
 "metadata": {
  "kernelspec": {
   "display_name": "Python 3 (ipykernel)",
   "language": "python",
   "name": "python3"
  },
  "language_info": {
   "codemirror_mode": {
    "name": "ipython",
    "version": 3
   },
   "file_extension": ".py",
   "mimetype": "text/x-python",
   "name": "python",
   "nbconvert_exporter": "python",
   "pygments_lexer": "ipython3",
   "version": "3.8.17"
  }
 },
 "nbformat": 4,
 "nbformat_minor": 5
}
